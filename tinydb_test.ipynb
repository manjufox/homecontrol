{
 "cells": [
  {
   "cell_type": "code",
   "execution_count": 8,
   "metadata": {},
   "outputs": [],
   "source": [
    "from tinydb import TinyDB, Query\n",
    "from tinydb.operations import set"
   ]
  },
  {
   "cell_type": "code",
   "execution_count": 9,
   "metadata": {},
   "outputs": [],
   "source": [
    "db = TinyDB(\"sample.json\")\n",
    "que = Query()"
   ]
  },
  {
   "cell_type": "code",
   "execution_count": 10,
   "metadata": {},
   "outputs": [
    {
     "data": {
      "text/plain": [
       "1"
      ]
     },
     "execution_count": 10,
     "metadata": {},
     "output_type": "execute_result"
    }
   ],
   "source": [
    "db.insert({\"name\":\"Light\",\"power\":\"000111\"})"
   ]
  },
  {
   "cell_type": "code",
   "execution_count": 11,
   "metadata": {},
   "outputs": [
    {
     "data": {
      "text/plain": [
       "2"
      ]
     },
     "execution_count": 11,
     "metadata": {},
     "output_type": "execute_result"
    }
   ],
   "source": [
    "db.insert({\"name\":\"TV\",\"power\":\"121212\",\"volume_up\":\"222211\"})"
   ]
  },
  {
   "cell_type": "code",
   "execution_count": 5,
   "metadata": {},
   "outputs": [
    {
     "data": {
      "text/plain": [
       "[2, 4]"
      ]
     },
     "execution_count": 5,
     "metadata": {},
     "output_type": "execute_result"
    }
   ],
   "source": [
    "db.update(set(\"volume_down\",\"333\"),que.name==\"TV\")"
   ]
  },
  {
   "cell_type": "code",
   "execution_count": 6,
   "metadata": {},
   "outputs": [
    {
     "data": {
      "text/plain": [
       "[{'name': 'Light', 'power': '000111'},\n",
       " {'name': 'TV',\n",
       "  'power': '121212',\n",
       "  'volume_up': '222211',\n",
       "  'volume_down': '333'},\n",
       " {'name': 'Light', 'power': '000111'},\n",
       " {'name': 'TV',\n",
       "  'power': '121212',\n",
       "  'volume_up': '222211',\n",
       "  'volume_down': '333'}]"
      ]
     },
     "execution_count": 6,
     "metadata": {},
     "output_type": "execute_result"
    }
   ],
   "source": [
    "db.all()"
   ]
  },
  {
   "cell_type": "code",
   "execution_count": 7,
   "metadata": {},
   "outputs": [],
   "source": [
    "db.purge()"
   ]
  },
  {
   "cell_type": "code",
   "execution_count": 9,
   "metadata": {},
   "outputs": [],
   "source": [
    "que = Query()"
   ]
  },
  {
   "cell_type": "code",
   "execution_count": 16,
   "metadata": {},
   "outputs": [
    {
     "data": {
      "text/plain": [
       "[{'name': 'Light', 'power': '000111'}]"
      ]
     },
     "execution_count": 16,
     "metadata": {},
     "output_type": "execute_result"
    }
   ],
   "source": [
    "db.search(que.name == \"Light\")"
   ]
  },
  {
   "cell_type": "code",
   "execution_count": 17,
   "metadata": {},
   "outputs": [
    {
     "name": "stdout",
     "output_type": "stream",
     "text": [
      "{'name': 'Light', 'power': '000111'}\n",
      "{'name': 'TV', 'power': '121212', 'volume_up': '222211'}\n"
     ]
    }
   ],
   "source": [
    "for item in db:\n",
    "    print(item)"
   ]
  },
  {
   "cell_type": "code",
   "execution_count": 12,
   "metadata": {},
   "outputs": [],
   "source": [
    "byte = b\"&\\x00H\\x00\\x00\\x01'\\x95\\x11\\x14\\x11\\x14\\x12\\x13\\x12\\x14\\x11\\x14\\x12\\x13\\x129\\x11\\x14\\x129\\x119\\x129\\x118\\x139\\x119\\x12\\x14\\x119\\x12\\x13\\x129\\x11\\x14\\x129\\x119\\x12\\x13\\x12\\x14\\x11\\x14\\x128\\x12\\x14\\x119\\x12\\x14\\x11\\x14\\x119\\x129\\x119\\x12\\x00\\r\\x05\""
   ]
  },
  {
   "cell_type": "code",
   "execution_count": 16,
   "metadata": {},
   "outputs": [
    {
     "data": {
      "text/plain": [
       "'26004800000127951114111412131214111412131239111412391139123911381339113912141139121312391114123911391213121411141238121411391214111411391239113912000d05'"
      ]
     },
     "execution_count": 16,
     "metadata": {},
     "output_type": "execute_result"
    }
   ],
   "source": [
    "byte.hex()"
   ]
  },
  {
   "cell_type": "code",
   "execution_count": 18,
   "metadata": {},
   "outputs": [
    {
     "data": {
      "text/plain": [
       "b\"&\\x00H\\x00\\x00\\x01'\\x95\\x11\\x14\\x11\\x14\\x12\\x13\\x12\\x14\\x11\\x14\\x12\\x13\\x129\\x11\\x14\\x129\\x119\\x129\\x118\\x139\\x119\\x12\\x14\\x119\\x12\\x13\\x129\\x11\\x14\\x129\\x119\\x12\\x13\\x12\\x14\\x11\\x14\\x128\\x12\\x14\\x119\\x12\\x14\\x11\\x14\\x119\\x129\\x119\\x12\\x00\\r\\x05\""
      ]
     },
     "execution_count": 18,
     "metadata": {},
     "output_type": "execute_result"
    }
   ],
   "source": [
    "bytes.fromhex(byte.hex())"
   ]
  },
  {
   "cell_type": "code",
   "execution_count": null,
   "metadata": {},
   "outputs": [],
   "source": []
  }
 ],
 "metadata": {
  "kernelspec": {
   "display_name": "Python 3",
   "language": "python",
   "name": "python3"
  },
  "language_info": {
   "codemirror_mode": {
    "name": "ipython",
    "version": 3
   },
   "file_extension": ".py",
   "mimetype": "text/x-python",
   "name": "python",
   "nbconvert_exporter": "python",
   "pygments_lexer": "ipython3",
   "version": "3.6.5"
  }
 },
 "nbformat": 4,
 "nbformat_minor": 2
}
